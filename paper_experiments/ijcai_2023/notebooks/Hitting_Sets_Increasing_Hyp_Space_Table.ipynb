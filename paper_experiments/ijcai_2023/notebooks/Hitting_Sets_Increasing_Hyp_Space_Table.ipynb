{
 "cells": [
  {
   "cell_type": "code",
   "execution_count": 62,
   "metadata": {},
   "outputs": [],
   "source": [
    "import pandas as pd\n",
    "import os\n",
    "import json\n",
    "import re\n",
    "import operator\n",
    "import json\n",
    "from os.path import join\n",
    "pd.set_option('display.max_colwidth', None)\n",
    "from examples.hitting_sets.increasing_hyp_space import extra_configs"
   ]
  },
  {
   "cell_type": "code",
   "execution_count": 92,
   "metadata": {},
   "outputs": [],
   "source": [
    "base_table = r'''\n",
    "\\begin{table}[H]\n",
    "\\centering\n",
    "\\resizebox{0.8\\textwidth}{!}{%\n",
    "\\begin{tabular}{cccc}\n",
    "\\toprule\n",
    "& \\textbf{\\makecell{Domain\\\\knowledge}} & \\textbf{\\makecell{Convergence\\\\iteration}} & \\textbf{\\makecell{Convergence\\\\time (s)}} \\\\\n",
    "\\midrule\n",
    "<<NSL_RESULTS_TO_REPLACE>>\n",
    "\\bottomrule\n",
    "\\end{tabular}\n",
    "}\n",
    "\\caption{Increasing the hypothesis space, HS FashionMNIST task.}\n",
    "\\label{tab:hs_increasing_hyp_space}\n",
    "\\end{table}\n",
    "'''"
   ]
  },
  {
   "cell_type": "code",
   "execution_count": 93,
   "metadata": {},
   "outputs": [],
   "source": [
    "def atof(text):\n",
    "    try:\n",
    "        retval = float(text)\n",
    "    except ValueError:\n",
    "        retval = text\n",
    "    return retval\n",
    "\n",
    "def natural_keys(text):\n",
    "    '''\n",
    "    alist.sort(key=natural_keys) sorts in human order\n",
    "    http://nedbatchelder.com/blog/200712/human_sorting.html\n",
    "    (See Toothy's implementation in the comments)\n",
    "    float regex comes from https://stackoverflow.com/a/12643073/190597\n",
    "    '''\n",
    "    return [ atof(c) for c in re.split(r'[+-]?([0-9]+(?:[.][0-9]*)?|[.][0-9]+)', text) ]"
   ]
  },
  {
   "cell_type": "code",
   "execution_count": 94,
   "metadata": {},
   "outputs": [],
   "source": [
    "example_dir = '../../../examples/hitting_sets'\n",
    "NSL_BASE_RUN_DIR = example_dir+'/saved_results/saved_local_runs/run_1'\n",
    "NSL_3_1_RUN_DIR = example_dir+'/saved_results/repeats/HS_fashion_mnist/100/1'"
   ]
  },
  {
   "cell_type": "code",
   "execution_count": 95,
   "metadata": {},
   "outputs": [],
   "source": [
    "def get_mode_declarations():\n",
    "    config_results = {}\n",
    "    for c in extra_configs:\n",
    "        config_results[c] = extra_configs[c].md.split('#bias(\":- in_head(H1), in_head(H2), H1<H2.\").\\n')[1].split('\\n')\n",
    "    return config_results"
   ]
  },
  {
   "cell_type": "code",
   "execution_count": 96,
   "metadata": {},
   "outputs": [],
   "source": [
    "def get_convergence(run_dir):\n",
    "    with open(join(run_dir, 'test_log.json'), 'r') as jf:\n",
    "        tl = json.loads(jf.read())\n",
    "        for e in tl:\n",
    "            if tl[str(e)]['hyp_accuracy'] >= 1:\n",
    "                convergence_epoch = int(e)\n",
    "                break\n",
    "    if convergence_epoch == 0:\n",
    "        convergence_epoch = 1\n",
    "        \n",
    "    train_details_file = run_dir+'/train_details.txt'\n",
    "    iteration_times = []\n",
    "    read=False\n",
    "    for line in open(train_details_file):\n",
    "        if '\"total_without_test\"' in line.strip():\n",
    "            val = line.strip().split(': ')[1]\n",
    "            iteration_times.append(float(val))\n",
    "            read = True\n",
    "            continue\n",
    "        elif line.strip() == '---------------------':\n",
    "            read = False\n",
    "    # Sum how long it takes to reach this epoch\n",
    "    epoch_time = 0\n",
    "    for j in range(int(convergence_epoch)):\n",
    "        epoch_time += iteration_times[j]\n",
    "    return {\"convergence_epoch\": convergence_epoch, \"time\": epoch_time}"
   ]
  },
  {
   "cell_type": "code",
   "execution_count": 97,
   "metadata": {},
   "outputs": [],
   "source": [
    "# Generate convergence iteration and run time until convergence automatically\n",
    "def get_convergence_iteration_and_run_time(example_dir):\n",
    "    nsl_dir = example_dir+'/saved_results/increasing_hyp_space/HS_fashion_MNIST/100'\n",
    "    configs = os.listdir(nsl_dir)\n",
    "    configs = [c for c in configs if c != '.DS_Store']\n",
    "    configs = [c for c in configs if c != '.DS_Store']\n",
    "    configs = [c for c in configs if c != '__init__']\n",
    "    configs = [c for c in configs if c != '__init__.py']\n",
    "    configs = [c for c in configs if c != '__pycache__']\n",
    "    configs = [c for c in configs if c != 'keep.txt']\n",
    "    configs = [c for c in configs if '.json' not in c]\n",
    "    \n",
    "    config_results = {}\n",
    "    \n",
    "    # Get convergence and time of base\n",
    "    config_results['BASE'] = get_convergence(NSL_BASE_RUN_DIR)\n",
    "\n",
    "    # Sampled configs\n",
    "    for c in configs:\n",
    "        config_results[c] = get_convergence(nsl_dir+'/'+c)\n",
    "        \n",
    "    # 3 sets digit 1\n",
    "    config_results['FINAL'] = get_convergence(NSL_3_1_RUN_DIR)\n",
    "    \n",
    "    return config_results"
   ]
  },
  {
   "cell_type": "code",
   "execution_count": 98,
   "metadata": {},
   "outputs": [],
   "source": [
    "def create_table_row_str(data_list):\n",
    "    table_row_str = ''\n",
    "    for r in data_list:\n",
    "        for idx, cell in enumerate(r):\n",
    "            if idx == 3:\n",
    "                table_row_str += '{:.2f}'.format(cell) + ' & '\n",
    "            else:\n",
    "                table_row_str += str(cell) +' & '\n",
    "        table_row_str = table_row_str[:-2] + r'\\\\ \\midrule'\n",
    "    table_row_str = table_row_str[:-9]\n",
    "    return table_row_str"
   ]
  },
  {
   "cell_type": "code",
   "execution_count": 99,
   "metadata": {},
   "outputs": [],
   "source": [
    "def create_hyp_space_table(example_dir, caption):\n",
    "    bk_ss = get_mode_declarations()\n",
    "    iter_run_time = get_convergence_iteration_and_run_time(example_dir)\n",
    "    nsl_dir = example_dir+'/saved_results/increasing_hyp_space/HS_fashion_mnist/100'\n",
    "    data = []\n",
    "    configs = os.listdir(nsl_dir)\n",
    "    configs = [c for c in configs if c != '.DS_Store']\n",
    "    configs = [c for c in configs if c != '__init__']\n",
    "    configs = [c for c in configs if c != '__init__.py']\n",
    "    configs = [c for c in configs if c != '__pycache__']\n",
    "    configs = [c for c in configs if '.json' not in c]\n",
    "    configs = [c for c in configs if 'keep.txt' not in c]\n",
    "    configs.sort(key=natural_keys)\n",
    "    \n",
    "    # Add standard\n",
    "    data.append(['', \n",
    "                 r'Standard', \n",
    "                iter_run_time['BASE']['convergence_epoch'], \n",
    "                round(iter_run_time['BASE']['time'],2)])\n",
    "    \n",
    "    for c in configs:\n",
    "        # Ignore config 2 as basically the same as config 1\n",
    "        if c != 'config_2':\n",
    "            mode_decs_for_display = ['Standard']\n",
    "            for m in sorted(bk_ss[c]):\n",
    "                if 'var(ss)' in m:\n",
    "                    # means element\n",
    "                    el = m.split('var(ss), ')[1].split('),')[0]\n",
    "                    mode_decs_for_display.append('el {0}'.format(el))\n",
    "                elif 'var(elt)' in m:\n",
    "                    # means subset\n",
    "                    ss_id = m.split(', var(elt)')[0].split('ss_element(')[1]\n",
    "                    mode_decs_for_display.append('ssID {0}'.format(ss_id))\n",
    "            mode_decs_for_display = ', '.join(mode_decs_for_display)\n",
    "            data.append([\n",
    "                '',\n",
    "                mode_decs_for_display,\n",
    "                int(iter_run_time[c]['convergence_epoch']), \n",
    "                round(iter_run_time[c]['time'],2)\n",
    "            ])\n",
    "        \n",
    "    \n",
    "    # Add 3 sets digit 1\n",
    "    md = 'Standard, ssID 3, el 1'\n",
    "    data.append(['*', \n",
    "                 md, \n",
    "                 iter_run_time['FINAL']['convergence_epoch'],\n",
    "                 round(iter_run_time['FINAL']['time'],2)\n",
    "                ])\n",
    "    \n",
    "    # Sort by convergence epoch then time\n",
    "    data = sorted(data, key=operator.itemgetter(2, 3))\n",
    "\n",
    "    table_row_str = create_table_row_str(data)\n",
    "    table_str = base_table.replace('<<NSL_RESULTS_TO_REPLACE>>', table_row_str)\n",
    "    \n",
    "    return table_str"
   ]
  },
  {
   "cell_type": "code",
   "execution_count": 100,
   "metadata": {},
   "outputs": [
    {
     "name": "stdout",
     "output_type": "stream",
     "text": [
      "\n",
      "\\begin{table}[H]\n",
      "\\centering\n",
      "\\resizebox{0.8\\textwidth}{!}{%\n",
      "\\begin{tabular}{cccc}\n",
      "\\toprule\n",
      "& \\textbf{\\makecell{Domain\\\\knowledge}} & \\textbf{\\makecell{Convergence\\\\iteration}} & \\textbf{\\makecell{Convergence\\\\time (s)}} \\\\\n",
      "\\midrule\n",
      " & Standard, ssID 4, el 4 & 1 & 97.64 \\\\ \\midrule & Standard, ssID 4, el 3 & 1 & 102.16 \\\\ \\midrule & Standard, el 3, el 4 & 1 & 110.80 \\\\ \\midrule & Standard, ssID 2, ssID 4 & 1 & 111.34 \\\\ \\midrule & Standard, ssID 2, el 2 & 1 & 113.21 \\\\ \\midrule & Standard & 1 & 115.77 \\\\ \\midrule & Standard, ssID 1, el 4 & 1 & 130.71 \\\\ \\midrule & Standard, ssID 3, el 4 & 2 & 734.70 \\\\ \\midrule* & Standard, ssID 3, el 1 & 2 & 852.84 \\\\ \\midrule & Standard, ssID 3, el 3 & 2 & 864.03 \\\\ \\midrule & Standard, ssID 1, ssID 3 & 2 & 888.54 \\\\\n",
      "\\bottomrule\n",
      "\\end{tabular}\n",
      "}\n",
      "\\caption{Increasing the hypothesis space, HS FashionMNIST task.}\n",
      "\\label{tab:hs_increasing_hyp_space}\n",
      "\\end{table}\n",
      "\n"
     ]
    }
   ],
   "source": [
    "print(create_hyp_space_table(example_dir, 'Sampled hypothesis spaces - Hitting Sets standard task. Bold shows configuration used in this paper.'))"
   ]
  },
  {
   "cell_type": "code",
   "execution_count": null,
   "metadata": {},
   "outputs": [],
   "source": []
  },
  {
   "cell_type": "code",
   "execution_count": null,
   "metadata": {},
   "outputs": [],
   "source": []
  }
 ],
 "metadata": {
  "kernelspec": {
   "display_name": "Python 3 (ipykernel)",
   "language": "python",
   "name": "python3"
  },
  "language_info": {
   "codemirror_mode": {
    "name": "ipython",
    "version": 3
   },
   "file_extension": ".py",
   "mimetype": "text/x-python",
   "name": "python",
   "nbconvert_exporter": "python",
   "pygments_lexer": "ipython3",
   "version": "3.8.9"
  }
 },
 "nbformat": 4,
 "nbformat_minor": 4
}
