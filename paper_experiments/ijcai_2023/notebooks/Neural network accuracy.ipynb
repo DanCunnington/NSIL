{
 "cells": [
  {
   "cell_type": "markdown",
   "metadata": {},
   "source": [
    "# NSIL Neural network accuracy"
   ]
  },
  {
   "cell_type": "markdown",
   "metadata": {},
   "source": [
    "This notebook calculates the mean neural network accuracy on each task"
   ]
  },
  {
   "cell_type": "code",
   "execution_count": 14,
   "metadata": {},
   "outputs": [],
   "source": [
    "import matplotlib.pyplot as plt\n",
    "import numpy as np\n",
    "import pandas as pd\n",
    "import os\n",
    "import re\n",
    "import json\n",
    "from scipy.stats import sem\n",
    "from os.path import join"
   ]
  },
  {
   "cell_type": "code",
   "execution_count": 2,
   "metadata": {},
   "outputs": [],
   "source": [
    "# Helper functions\n",
    "def atof(text):\n",
    "    try:\n",
    "        retval = float(text)\n",
    "    except ValueError:\n",
    "        retval = text\n",
    "    return retval\n",
    "\n",
    "def natural_keys(text):\n",
    "    '''\n",
    "    alist.sort(key=natural_keys) sorts in human order\n",
    "    http://nedbatchelder.com/blog/200712/human_sorting.html\n",
    "    (See Toothy's implementation in the comments)\n",
    "    float regex comes from https://stackoverflow.com/a/12643073/190597\n",
    "    '''\n",
    "    return [ atof(c) for c in re.split(r'[+-]?([0-9]+(?:[.][0-9]*)?|[.][0-9]+)', text) ]"
   ]
  },
  {
   "cell_type": "code",
   "execution_count": 11,
   "metadata": {},
   "outputs": [],
   "source": [
    "def get_nn_acc(example_dir,\n",
    "         dataset_pct=100,\n",
    "         num_epochs=20,\n",
    "         dataset=None):\n",
    "        \n",
    "    nsl_repeats_dir = example_dir+'/saved_results'\n",
    "    \n",
    "    if dataset is not None:\n",
    "        nsl_repeats_dir = nsl_repeats_dir+'/repeats/'+dataset\n",
    "    else:\n",
    "        nsl_repeats_dir = nsl_repeats_dir+'/repeats'\n",
    "    \n",
    "    # Get NSL results\n",
    "    nsl_means = []\n",
    "    nsl_errs = []\n",
    "    nsl_dir = nsl_repeats_dir+'/'+str(dataset_pct)\n",
    "    repeats = os.listdir(nsl_dir)\n",
    "    repeats = [r for r in repeats if r != '.DS_Store']\n",
    "    repeats.sort(key=natural_keys)\n",
    "    \n",
    "    full_range = num_epochs + 1\n",
    "    \n",
    "    for epoch_num in range(full_range):\n",
    "        all_results_epoch = []\n",
    "        for idx, i in enumerate(repeats):\n",
    "            # Read in test_log and get neural_network_acc at this epoch\n",
    "            # Read in test_log and get end-to-end accuracy at this epoch\n",
    "            with open(join(nsl_dir, i, 'test_log.json'), 'r') as jf:\n",
    "                tl = json.loads(jf.read())\n",
    "                acc = tl[str(epoch_num)]['network_accuracy']['digit']\n",
    "                all_results_epoch.append(acc)\n",
    "            \n",
    "            \n",
    "        # Compute mean and std err across all repeats\n",
    "        nsl_means.append(np.mean(all_results_epoch))\n",
    "        nsl_errs.append(sem(all_results_epoch))\n",
    "    return nsl_means, nsl_errs    "
   ]
  },
  {
   "cell_type": "markdown",
   "metadata": {},
   "source": [
    "## MNIST Addition"
   ]
  },
  {
   "cell_type": "code",
   "execution_count": 22,
   "metadata": {},
   "outputs": [],
   "source": [
    "# Example directory\n",
    "data_pcts = [100,10,5]\n",
    "example_name = 'arithmetic'\n",
    "example = '../../../examples/'+example_name"
   ]
  },
  {
   "cell_type": "code",
   "execution_count": 23,
   "metadata": {},
   "outputs": [
    {
     "name": "stdout",
     "output_type": "stream",
     "text": [
      "100%: 0.98857 (0.0003765564192018305)\n",
      "10%: 0.97047 (0.0007714681833327522)\n",
      "5%: 0.8912150000000001 (0.03432997790408169)\n"
     ]
    }
   ],
   "source": [
    "for d in data_pcts:\n",
    "    acc, err = get_nn_acc(example, dataset='sum', dataset_pct=d)\n",
    "    print('{0}%: {1} ({2})'.format(d,acc[len(acc)-1],err[len(err)-1]))"
   ]
  },
  {
   "cell_type": "markdown",
   "metadata": {},
   "source": [
    "## MNIST E9P"
   ]
  },
  {
   "cell_type": "code",
   "execution_count": 24,
   "metadata": {},
   "outputs": [
    {
     "name": "stdout",
     "output_type": "stream",
     "text": [
      "100%: 0.9855684210526318 (0.0005585095365627326)\n",
      "10%: 0.9735450000000002 (0.000582439289811213)\n",
      "5%: 0.9622149999999999 (0.0006638910421066644)\n"
     ]
    }
   ],
   "source": [
    "for d in data_pcts:\n",
    "    acc, err = get_nn_acc(example, dataset='e9p', dataset_pct=d)\n",
    "    print('{0}%: {1} ({2})'.format(d,acc[len(acc)-1],err[len(err)-1]))"
   ]
  },
  {
   "cell_type": "markdown",
   "metadata": {},
   "source": [
    "## Hitting sets HS"
   ]
  },
  {
   "cell_type": "code",
   "execution_count": 12,
   "metadata": {},
   "outputs": [],
   "source": [
    "# Example directory\n",
    "datasets = ['hs_mnist', 'hs_fashion_mnist']\n",
    "example_name = 'hitting_sets'\n",
    "example = '../../../examples/'+example_name"
   ]
  },
  {
   "cell_type": "code",
   "execution_count": 15,
   "metadata": {},
   "outputs": [
    {
     "name": "stdout",
     "output_type": "stream",
     "text": [
      "hs_mnist: 0.9932785587012471 (0.00022411608031948024)\n",
      "hs_fashion_mnist: 0.89665 (0.0013795403506049976)\n"
     ]
    }
   ],
   "source": [
    "for d in datasets:\n",
    "    acc, err = get_nn_acc(example, dataset=d)\n",
    "    print('{0}: {1} ({2})'.format(d,acc[len(acc)-1],err[len(err)-1]))"
   ]
  },
  {
   "cell_type": "markdown",
   "metadata": {},
   "source": [
    "## Hitting sets CHS"
   ]
  },
  {
   "cell_type": "code",
   "execution_count": 20,
   "metadata": {},
   "outputs": [],
   "source": [
    "# Example directory\n",
    "datasets = ['CHS_mnist', 'CHS_fashion_mnist']\n",
    "example_name = 'hitting_sets'\n",
    "example = '../../../examples/'+example_name"
   ]
  },
  {
   "cell_type": "code",
   "execution_count": 21,
   "metadata": {},
   "outputs": [
    {
     "name": "stdout",
     "output_type": "stream",
     "text": [
      "CHS_mnist: 0.9927638091467037 (0.00020985501013060122)\n",
      "CHS_fashion_mnist: 0.8943200000000001 (0.0013519887884929109)\n"
     ]
    }
   ],
   "source": [
    "for d in datasets:\n",
    "    acc, err = get_nn_acc(example, dataset=d)\n",
    "    print('{0}: {1} ({2})'.format(d,acc[len(acc)-1],err[len(err)-1]))"
   ]
  },
  {
   "cell_type": "code",
   "execution_count": null,
   "metadata": {},
   "outputs": [],
   "source": []
  }
 ],
 "metadata": {
  "kernelspec": {
   "display_name": "Python 3 (ipykernel)",
   "language": "python",
   "name": "python3"
  },
  "language_info": {
   "codemirror_mode": {
    "name": "ipython",
    "version": 3
   },
   "file_extension": ".py",
   "mimetype": "text/x-python",
   "name": "python",
   "nbconvert_exporter": "python",
   "pygments_lexer": "ipython3",
   "version": "3.10.5"
  }
 },
 "nbformat": 4,
 "nbformat_minor": 4
}
