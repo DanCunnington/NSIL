{
 "cells": [
  {
   "cell_type": "markdown",
   "id": "a9352033",
   "metadata": {},
   "source": [
    "# Meta_Abd Comparison"
   ]
  },
  {
   "cell_type": "markdown",
   "id": "42c399eb",
   "metadata": {},
   "source": [
    "This notebook generates the results comparing NSIL to Meta_Abd:\n",
    "\n",
    "* [Neural network accuracy](#nn_acc)\n",
    "* [Task MAE/log MAE](#task_mae)"
   ]
  },
  {
   "cell_type": "code",
   "execution_count": 4,
   "id": "21cac066",
   "metadata": {},
   "outputs": [],
   "source": [
    "import matplotlib.pyplot as plt\n",
    "import numpy as np\n",
    "import pandas as pd\n",
    "import os\n",
    "import re\n",
    "import json\n",
    "import torch\n",
    "import yaml\n",
    "import math\n",
    "import re\n",
    "import torch.nn as nn\n",
    "from torchvision import transforms\n",
    "from torchvision.datasets import MNIST\n",
    "from torch.utils.data import DataLoader\n",
    "from scipy.stats import sem\n",
    "from os.path import join\n",
    "from tqdm import tqdm"
   ]
  },
  {
   "cell_type": "code",
   "execution_count": 5,
   "id": "2f7925be",
   "metadata": {},
   "outputs": [],
   "source": [
    "# Helper functions\n",
    "def atof(text):\n",
    "    try:\n",
    "        retval = float(text)\n",
    "    except ValueError:\n",
    "        retval = text\n",
    "    return retval\n",
    "\n",
    "def natural_keys(text):\n",
    "    '''\n",
    "    alist.sort(key=natural_keys) sorts in human order\n",
    "    http://nedbatchelder.com/blog/200712/human_sorting.html\n",
    "    (See Toothy's implementation in the comments)\n",
    "    float regex comes from https://stackoverflow.com/a/12643073/190597\n",
    "    '''\n",
    "    return [ atof(c) for c in re.split(r'[+-]?([0-9]+(?:[.][0-9]*)?|[.][0-9]+)', text) ]"
   ]
  },
  {
   "cell_type": "code",
   "execution_count": 6,
   "id": "fdeb5cc6",
   "metadata": {},
   "outputs": [],
   "source": [
    "def read_meta_abd(example_dir, dataset):\n",
    "    if 'sum' in dataset:\n",
    "        f_name = 'sum'\n",
    "    else:\n",
    "        f_name = 'prod'\n",
    "    with open(join(example_dir, 'baselines', 'saved_results', 'Meta_Abd', f'meta_abd_{f_name}_initial_run.txt'), 'r') as mabd:\n",
    "        mabd = mabd.read()\n",
    "    ptn = r'Average\\sloss:\\s\\d+.\\d+.\\sAccuracy:\\s(\\d+)'\n",
    "    \n",
    "    accs = [int(x)/10000 for x in re.findall(ptn, mabd)]\n",
    "    return accs[:51]"
   ]
  },
  {
   "cell_type": "code",
   "execution_count": 13,
   "id": "23514a54",
   "metadata": {},
   "outputs": [],
   "source": [
    "def plot_acc(example_dir, \n",
    "             num_epochs=50, \n",
    "             datasets=['meta_abd_data_sum', 'meta_abd_data_prod'], \n",
    "             acc_type='network', \n",
    "             ylim=[-0.05, 1.05], \n",
    "             xlim=[-0.05, 101],\n",
    "             save_legend=False):\n",
    "    nsil_repeats_dir = join(example_dir, 'saved_results', 'repeats')\n",
    "    figure_handles = []\n",
    "    figure_labels = []\n",
    "    fig = plt.figure(\"data figure\")\n",
    "    legend_fig = plt.figure(\"legend figure\")\n",
    "    ax = fig.add_subplot(111)\n",
    "\n",
    "    colors = ['k','b']\n",
    "    m_abd_colors = ['r','g']\n",
    "    m_abd_lines = [':', '--']\n",
    "    lines = ['-', '-.']\n",
    "    for d_idx, dataset in enumerate(datasets):\n",
    "        nsil_means = []\n",
    "        nsil_errs = []\n",
    "        nsil_dir = nsil_repeats_dir + '/' + dataset\n",
    "        repeats = os.listdir(nsil_dir)\n",
    "        repeats = [r for r in repeats if r != '.DS_Store']\n",
    "        repeats.sort(key=natural_keys)\n",
    "\n",
    "        # X data is just epoch number\n",
    "        full_range = num_epochs + 1\n",
    "        X = list(range(full_range))\n",
    "        for epoch_num in range(full_range):\n",
    "            all_results_epoch = []\n",
    "\n",
    "            for idx, i in enumerate(repeats):\n",
    "                with open(join(nsil_dir, i, 'test_log.json'), 'r') as jf:\n",
    "                    tl = json.loads(jf.read())\n",
    "                \n",
    "                if str(epoch_num) not in tl:\n",
    "                    print('Repeat not complete:')\n",
    "                    print(join(nsil_dir, i, 'test_log.json'))\n",
    "                    continue\n",
    "                if acc_type == 'network_accuracy':\n",
    "                    acc = tl[str(epoch_num)]['network_accuracy']['digit']\n",
    "                else:\n",
    "                    acc = tl[str(epoch_num)]['end_to_end_acc']\n",
    "                \n",
    "                all_results_epoch.append(acc)\n",
    "            # Compute mean and std err across all repeats\n",
    "            nsil_means.append(np.mean(all_results_epoch))\n",
    "            nsil_errs.append(sem(all_results_epoch))\n",
    "        \n",
    "        # Plot graph\n",
    "        if 'sum' in dataset:\n",
    "            d_label = 'Addition'\n",
    "        else:\n",
    "            d_label = 'Product'\n",
    "        nsl_plot, = ax.plot(X, nsil_means, color=colors[d_idx], linestyle=lines[d_idx], label=f'NSIL {d_label}')\n",
    "        ax.errorbar(X, nsil_means, nsil_errs, color=colors[d_idx],linestyle=lines[d_idx], capsize=5)\n",
    "        figure_handles.append(nsl_plot)\n",
    "        figure_labels.append(f'NSIL {d_label}')\n",
    "    \n",
    "    for d_idx, dataset in enumerate(datasets):\n",
    "        if 'sum' in dataset:\n",
    "            d_label = 'Addition'\n",
    "        else:\n",
    "            d_label = 'Product'\n",
    "        m_abd = read_meta_abd(example_dir, dataset)\n",
    "        b_plot, = ax.plot(range(len(m_abd)), m_abd, color=m_abd_colors[d_idx], linestyle=m_abd_lines[d_idx], label=f'Meta_Abd {d_label}')\n",
    "        figure_handles.append(b_plot)\n",
    "        figure_labels.append(f'Meta_Abd {d_label}')\n",
    "        \n",
    "    ax.set_xlabel('Epoch', fontsize=12)\n",
    "#     ax.set_xticks(X)\n",
    "    if acc_type == 'network_accuracy':\n",
    "        ax.set_ylabel('Network Accuracy', fontsize=12)\n",
    "    else:\n",
    "        ax.set_ylabel('Accuracy', fontsize=12)\n",
    "    ax.grid(which='both')\n",
    "#     ax.legend()\n",
    "    ax.set_ylim(ylim)\n",
    "    ax.set_xlim(xlim)\n",
    "    ax.xaxis.set_tick_params(labelsize=10)\n",
    "    ax.yaxis.set_tick_params(labelsize=10)\n",
    "    if save_legend:\n",
    "        legend_fig.legend(figure_handles, figure_labels, loc='center', ncol=2)\n",
    "        legend_fig.savefig('../figures/nsil_vs_meta_abd_legend.pdf', bbox_inches='tight')\n",
    "    else:\n",
    "        fig.savefig('../figures/nsil_vs_meta_abd.pdf', bbox_inches='tight')"
   ]
  },
  {
   "cell_type": "code",
   "execution_count": 8,
   "id": "73707b8d",
   "metadata": {},
   "outputs": [],
   "source": [
    "def get_network_acc(example_dir, \n",
    "         num_epochs=50):\n",
    "    \n",
    "    nsil_repeats_dir = join(example_dir, 'saved_results', 'repeats')\n",
    "    for d_idx, dataset in enumerate(['meta_abd_data_sum', 'meta_abd_data_prod']):\n",
    "        nsil_accs = []\n",
    "        max_acc = 0\n",
    "        nsil_dir = nsil_repeats_dir + '/' + dataset\n",
    "        repeats = os.listdir(nsil_dir)\n",
    "        repeats = [r for r in repeats if r != '.DS_Store']\n",
    "        repeats.sort(key=natural_keys)\n",
    "\n",
    "        # X data is just epoch number\n",
    "        full_range = num_epochs + 1\n",
    "        X = list(range(full_range))\n",
    "\n",
    "        for idx, i in enumerate(repeats):\n",
    "            with open(join(nsil_dir, i, 'test_log.json'), 'r') as jf:\n",
    "                tl = json.loads(jf.read())\n",
    "            if str(num_epochs) not in tl:\n",
    "                print('Repeat not complete:')\n",
    "                print(join(nsil_dir, i, 'test_log.json'))\n",
    "                continue\n",
    "            acc = tl[str(num_epochs)]['network_accuracy']['digit']\n",
    "            if acc > max_acc:\n",
    "                max_acc = acc\n",
    "            nsil_accs.append(acc)\n",
    "        \n",
    "        net_acc = np.mean(np.array(nsil_accs))\n",
    "        net_err = sem(np.array(nsil_accs))\n",
    "        print(f'Dataset: {dataset}, Avg network accuracy: {net_acc} ({net_err})')\n",
    "        print(f'Dataset: {dataset}, Max network accuracy: {max_acc}')\n"
   ]
  },
  {
   "cell_type": "markdown",
   "id": "c4ca3a01",
   "metadata": {},
   "source": [
    "<a id='nn_acc'></a>\n",
    "# Network accuracy"
   ]
  },
  {
   "cell_type": "code",
   "execution_count": 9,
   "id": "37a03471",
   "metadata": {},
   "outputs": [
    {
     "name": "stdout",
     "output_type": "stream",
     "text": [
      "Dataset: meta_abd_data_sum, Avg network accuracy: 0.98444 (0.00014696938456700017)\n",
      "Dataset: meta_abd_data_sum, Max network accuracy: 0.9848\n",
      "Dataset: meta_abd_data_prod, Avg network accuracy: 0.9828399999999998 (0.00022715633383202008)\n",
      "Dataset: meta_abd_data_prod, Max network accuracy: 0.9835\n"
     ]
    }
   ],
   "source": [
    "example = '../../../examples/recursive_arithmetic'\n",
    "get_network_acc(example)"
   ]
  },
  {
   "cell_type": "code",
   "execution_count": 14,
   "id": "997485f8",
   "metadata": {},
   "outputs": [],
   "source": [
    "%%capture\n",
    "plot_acc(example, datasets=['meta_abd_data_sum', 'meta_abd_data_prod'], acc_type='network_accuracy', xlim=[-2, 52], save_legend=True)"
   ]
  },
  {
   "cell_type": "code",
   "execution_count": 12,
   "id": "1e4ba458",
   "metadata": {},
   "outputs": [
    {
     "data": {
      "image/png": "[encoded data removed]",
      "text/plain": [
       "<Figure size 640x480 with 1 Axes>"
      ]
     },
     "metadata": {},
     "output_type": "display_data"
    },
    {
     "data": {
      "text/plain": [
       "<Figure size 640x480 with 0 Axes>"
      ]
     },
     "metadata": {},
     "output_type": "display_data"
    }
   ],
   "source": [
    "plot_acc(example, datasets=['meta_abd_data_sum', 'meta_abd_data_prod'], acc_type='network_accuracy', xlim=[-2, 52])"
   ]
  },
  {
   "cell_type": "markdown",
   "id": "5c4976f1",
   "metadata": {},
   "source": [
    "<a id='task_mae'></a>\n",
    "# Task MAE"
   ]
  },
  {
   "cell_type": "code",
   "execution_count": 24,
   "id": "de5df4fc",
   "metadata": {},
   "outputs": [],
   "source": [
    "class Flatten(nn.Module):\n",
    "    def forward(self, input):\n",
    "        return input.view(input.size(0), -1)\n",
    "\n",
    "\n",
    "def conv_net(out_dim):\n",
    "    return nn.Sequential(\n",
    "        nn.Conv2d(1, 32, 3, 1),\n",
    "        nn.ReLU(),\n",
    "        nn.Conv2d(32, 64, 3, 1),\n",
    "        nn.ReLU(),\n",
    "        nn.MaxPool2d(2),\n",
    "        nn.Dropout(0.25),\n",
    "        Flatten(),\n",
    "        nn.Linear(9216, 128),\n",
    "        nn.ReLU(),\n",
    "        nn.Dropout(0.5),\n",
    "        nn.Linear(128, out_dim),\n",
    "        nn.Softmax(dim=1)\n",
    "    )\n",
    "\n",
    "\n",
    "class Net(nn.Module):\n",
    "    def __init__(self, out_dim):\n",
    "        super(Net, self).__init__()\n",
    "        self.enc = conv_net(out_dim)\n",
    "\n",
    "    def forward(self, x):\n",
    "        return self.enc(x)\n"
   ]
  },
  {
   "cell_type": "code",
   "execution_count": 25,
   "id": "0ef94099",
   "metadata": {},
   "outputs": [],
   "source": [
    "MNIST_transform = transforms.Compose([\n",
    "            transforms.ToTensor(),\n",
    "            transforms.Normalize((0.1307,), (0.3081,))\n",
    "        ])\n",
    "MNIST_TEST = DataLoader(MNIST(root='../../../data', train=False, download=False, transform=MNIST_transform), batch_size=64)"
   ]
  },
  {
   "cell_type": "code",
   "execution_count": 26,
   "id": "32280b45",
   "metadata": {},
   "outputs": [],
   "source": [
    "def get_nn_preds(_net, _loader):\n",
    "    with torch.no_grad():\n",
    "        all_preds = torch.tensor([], device='cpu')\n",
    "        for data, targets in _loader:\n",
    "            outputs = _net(data)\n",
    "            confs, preds = torch.max(outputs, 1)\n",
    "            all_preds = torch.cat((all_preds, preds.to('cpu')), 0)\n",
    "        return all_preds\n"
   ]
  },
  {
   "cell_type": "code",
   "execution_count": 27,
   "id": "cf423083",
   "metadata": {},
   "outputs": [],
   "source": [
    "# For each repeat, at epoch 10, load network, get test predictions, compute MAE\n",
    "def task_results(example, data_files):\n",
    "    \n",
    "    for dataset in data_files:        \n",
    "        nsil_dir = join(example, 'saved_results', 'repeats', dataset)\n",
    "        repeats = os.listdir(nsil_dir)\n",
    "        repeats = [r for r in repeats if r != '.DS_Store']\n",
    "        repeats.sort(key=natural_keys)\n",
    "        \n",
    "        for test_file in data_files[dataset]:\n",
    "            with open(join(example, 'data', test_file), 'r') as f:\n",
    "                TASK_DATA = yaml.load(f, Loader=yaml.Loader)\n",
    "        \n",
    "            results = []\n",
    "            for idx, i in enumerate(repeats):\n",
    "                try:\n",
    "                    net_weights_file = join(nsil_dir, i, 'networks', 'net_digit_iteration_50.pt')\n",
    "                    net = Net(10)\n",
    "                    net.load_state_dict(torch.load(net_weights_file, map_location=torch.device('cpu')))\n",
    "                    net.eval()\n",
    "                except:\n",
    "                    print(f\"Skipping repeat {i} as no iteration 10 network...\")\n",
    "                    continue\n",
    "\n",
    "                # Get network predictions on test images\n",
    "                nn_preds = get_nn_preds(net, MNIST_TEST)\n",
    "\n",
    "                # For each example in test set, compute metrics\n",
    "                task_preds = []\n",
    "                task_targets = []\n",
    "                for ex in TASK_DATA:\n",
    "                    ex_preds = [int(nn_preds[x].item()) for x in ex.x_idxs]\n",
    "                    if 'sum' in dataset:\n",
    "                        task_pred = sum(ex_preds)\n",
    "                    else:\n",
    "                        task_pred = np.prod(np.array(ex_preds))\n",
    "                    task_preds.append(task_pred)\n",
    "                    task_targets.append(ex.y)\n",
    "                \n",
    "                    \n",
    "                # Compute MAE or logMAE\n",
    "                if 'sum' in dataset:\n",
    "                    test_loss = torch.nn.L1Loss(reduction='sum')(\n",
    "                        torch.FloatTensor(task_preds), torch.FloatTensor(task_targets)).item()\n",
    "                else:\n",
    "                    test_loss = torch.nn.L1Loss(reduction='sum')(\n",
    "                        torch.log(torch.FloatTensor(task_preds)+1e-10),\n",
    "                        torch.log(torch.FloatTensor(task_targets)+1e-10)).item()\n",
    "                test_loss /= len(TASK_DATA)\n",
    "                results.append(test_loss)\n",
    "            \n",
    "            # Compute average over repeats\n",
    "            avg = np.mean(np.array(results))\n",
    "            if 'prod' in dataset:\n",
    "                mae_type = 'logMAE'\n",
    "            else:\n",
    "                mae_type = 'MAE'\n",
    "            print(f'File: {test_file}, {mae_type}: {avg:f}')\n",
    "            \n",
    "                    \n",
    "            \n",
    "        \n",
    "        "
   ]
  },
  {
   "cell_type": "code",
   "execution_count": 28,
   "id": "09662005",
   "metadata": {},
   "outputs": [],
   "source": [
    "d_fs = {\n",
    "    'meta_abd_data_sum': ['mysum_full_test.yaml', 'mysum_full_test_10.yaml', 'mysum_full_test_100.yaml'],\n",
    "    'meta_abd_data_prod': ['myprod_full_test.yaml', 'myprod_full_test_10.yaml', 'myprod_full_test_15.yaml']\n",
    "}"
   ]
  },
  {
   "cell_type": "code",
   "execution_count": 29,
   "id": "3edb4feb",
   "metadata": {},
   "outputs": [
    {
     "name": "stdout",
     "output_type": "stream",
     "text": [
      "File: mysum_full_test.yaml, MAE: 0.207920\n",
      "File: mysum_full_test_10.yaml, MAE: 0.550420\n",
      "File: mysum_full_test_100.yaml, MAE: 3.959680\n",
      "File: myprod_full_test.yaml, logMAE: 0.290473\n",
      "File: myprod_full_test_10.yaml, logMAE: 0.468566\n",
      "File: myprod_full_test_15.yaml, logMAE: 2.097720\n"
     ]
    }
   ],
   "source": [
    "task_results(example, d_fs)"
   ]
  },
  {
   "cell_type": "code",
   "execution_count": null,
   "id": "1ca2210a",
   "metadata": {},
   "outputs": [],
   "source": []
  }
 ],
 "metadata": {
  "kernelspec": {
   "display_name": "Python 3 (ipykernel)",
   "language": "python",
   "name": "python3"
  },
  "language_info": {
   "codemirror_mode": {
    "name": "ipython",
    "version": 3
   },
   "file_extension": ".py",
   "mimetype": "text/x-python",
   "name": "python",
   "nbconvert_exporter": "python",
   "pygments_lexer": "ipython3",
   "version": "3.10.5"
  }
 },
 "nbformat": 4,
 "nbformat_minor": 5
}
